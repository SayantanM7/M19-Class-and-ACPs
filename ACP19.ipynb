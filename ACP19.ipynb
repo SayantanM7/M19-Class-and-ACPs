{
  "nbformat": 4,
  "nbformat_minor": 0,
  "metadata": {
    "colab": {
      "provenance": [],
      "gpuType": "T4"
    },
    "kernelspec": {
      "name": "python3",
      "display_name": "Python 3"
    },
    "language_info": {
      "name": "python"
    },
    "accelerator": "GPU"
  },
  "cells": [
    {
      "cell_type": "markdown",
      "source": [
        "**Circumference**"
      ],
      "metadata": {
        "id": "8jN61nZadSwq"
      }
    },
    {
      "cell_type": "code",
      "source": [
        "import math\n",
        "\n",
        "radius = float (input(\"enter the radius of a circle:\"))\n",
        "\n",
        "circumference= 2*math.pi* radius\n",
        "print(\"circumference of a circle is :%.2f \"% circumference)"
      ],
      "metadata": {
        "colab": {
          "base_uri": "https://localhost:8080/"
        },
        "id": "1i32dTaCdfdp",
        "outputId": "3b255659-fa57-4251-aa08-c3531c2590bc"
      },
      "execution_count": 35,
      "outputs": [
        {
          "output_type": "stream",
          "name": "stdout",
          "text": [
            "enter the radius of a circle:7\n",
            "circumference of a circle is :43.98 \n"
          ]
        }
      ]
    },
    {
      "cell_type": "markdown",
      "source": [
        "**Shutdown**"
      ],
      "metadata": {
        "id": "dY0c7BCDdiiy"
      }
    },
    {
      "cell_type": "code",
      "source": [
        "import os\n",
        "\n",
        "shutdown = input(\"do you wish to shutdown your computer ? (yes or no):\")\n",
        "\n",
        "if shutdown == 'no':\n",
        " exit()\n",
        "else:\n",
        "  os.system(\"shutdown /s /t 1\")"
      ],
      "metadata": {
        "colab": {
          "base_uri": "https://localhost:8080/"
        },
        "id": "Tj84yzNmdiL5",
        "outputId": "1b812d38-ab37-4592-f33a-7b25822ff1fb"
      },
      "execution_count": 36,
      "outputs": [
        {
          "name": "stdout",
          "output_type": "stream",
          "text": [
            "do you wish to shutdown your computer ? (yes or no):no\n"
          ]
        }
      ]
    },
    {
      "cell_type": "markdown",
      "source": [
        "**Due Amount**"
      ],
      "metadata": {
        "id": "Gh8Pks37dvoY"
      }
    },
    {
      "cell_type": "code",
      "source": [
        "price = 2.50\n",
        "#define a function to calculate the difference between the amount given and price mentioned\n",
        "def calculate_change(amount_given):\n",
        "\treturn amount_given - price\n",
        "\n",
        "c = calculate_change(4.00)\n",
        "print(\"Change the customer is due\", c)"
      ],
      "metadata": {
        "colab": {
          "base_uri": "https://localhost:8080/"
        },
        "id": "xKj5h8ald3iy",
        "outputId": "869788e2-d85d-4116-ef69-d346ef30c4ad"
      },
      "execution_count": 1,
      "outputs": [
        {
          "output_type": "stream",
          "name": "stdout",
          "text": [
            "Change the customer is due 1.5\n"
          ]
        }
      ]
    },
    {
      "cell_type": "markdown",
      "source": [
        "**Age counter**"
      ],
      "metadata": {
        "id": "IEwOd4jYd93H"
      }
    },
    {
      "cell_type": "code",
      "source": [
        "def enterage(age):\n",
        "\n",
        "#define function to take input as natural number\n",
        "    if age < 0:  #condition 1\n",
        "        raise ValueError(\"Only positive integers are allowed\")\n",
        "    if age % 2 == 0: #condition 2\n",
        "        print(\"age is even\")\n",
        "    else:\n",
        "        print(\"age is odd\")\n",
        "\n",
        "try:\n",
        "    num = int(input(\"Enter your age: \"))\n",
        "    enterage(num)\n",
        "\n",
        "#handles value error exception\n",
        "except ValueError:\n",
        "    print(\"Only positive integers are allowed\")\n",
        "\n",
        "except:\n",
        "    print(\"something is wrong\")"
      ],
      "metadata": {
        "colab": {
          "base_uri": "https://localhost:8080/"
        },
        "id": "r_EHJvcbd_v6",
        "outputId": "8868667b-ea60-479c-b873-80fd470683ad"
      },
      "execution_count": 2,
      "outputs": [
        {
          "output_type": "stream",
          "name": "stdout",
          "text": [
            "Enter your age: 21\n",
            "age is odd\n"
          ]
        }
      ]
    },
    {
      "cell_type": "markdown",
      "source": [
        "**Trigonomtry values**"
      ],
      "metadata": {
        "id": "5aJhCG-JeGzp"
      }
    },
    {
      "cell_type": "code",
      "source": [
        "#importing math\n",
        "#using maths function for calculating trignometric values\n",
        "import math\n",
        "\n",
        "a = math.sin(0.5)\n",
        "b = math.cos(0.5)\n",
        "c = math.tan(0.5)\n",
        "\n",
        "print(\"value of sin(0.5)= \",a)\n",
        "print(\"value of cos(0.5)= \",b)\n",
        "print(\"value of tan(0.5)= \",c)"
      ],
      "metadata": {
        "colab": {
          "base_uri": "https://localhost:8080/"
        },
        "id": "grB3U_j7eK-Y",
        "outputId": "014b9a5f-884f-426a-da5c-556f25400972"
      },
      "execution_count": 3,
      "outputs": [
        {
          "output_type": "stream",
          "name": "stdout",
          "text": [
            "value of sin(0.5)=  0.479425538604203\n",
            "value of cos(0.5)=  0.8775825618903728\n",
            "value of tan(0.5)=  0.5463024898437905\n"
          ]
        }
      ]
    },
    {
      "cell_type": "markdown",
      "source": [
        "**Months**"
      ],
      "metadata": {
        "id": "q_KUQPKQeS7x"
      }
    },
    {
      "cell_type": "code",
      "source": [
        "# importing calendar module\n",
        "import calendar\n",
        "\n",
        "yy = 2024 # year\n",
        "mm = 9    # month\n",
        "\n",
        "# To take month and year input from the user\n",
        "# yy = int(input(\"Enter year: \"))\n",
        "# mm = int(input(\"Enter month: \"))\n",
        "\n",
        "# display the calendar\n",
        "print(calendar.month(yy, mm))"
      ],
      "metadata": {
        "colab": {
          "base_uri": "https://localhost:8080/"
        },
        "id": "JIfc35yveUWI",
        "outputId": "d01d5592-c498-423e-e2e8-5fd3da01a4b8"
      },
      "execution_count": 6,
      "outputs": [
        {
          "output_type": "stream",
          "name": "stdout",
          "text": [
            "   September 2024\n",
            "Mo Tu We Th Fr Sa Su\n",
            "                   1\n",
            " 2  3  4  5  6  7  8\n",
            " 9 10 11 12 13 14 15\n",
            "16 17 18 19 20 21 22\n",
            "23 24 25 26 27 28 29\n",
            "30\n",
            "\n"
          ]
        }
      ]
    }
  ]
}