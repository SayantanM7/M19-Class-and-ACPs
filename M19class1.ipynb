{
  "nbformat": 4,
  "nbformat_minor": 0,
  "metadata": {
    "colab": {
      "provenance": []
    },
    "kernelspec": {
      "name": "python3",
      "display_name": "Python 3"
    },
    "language_info": {
      "name": "python"
    }
  },
  "cells": [
    {
      "cell_type": "markdown",
      "source": [
        "**Geometry**"
      ],
      "metadata": {
        "id": "sm0YJ7HvN7Ox"
      }
    },
    {
      "cell_type": "code",
      "source": [
        "#Calculating circumference of a circle\n",
        "r=float(input(\"Enter radius:\"))\n",
        "\n",
        "#definition of function\n",
        "def circle_circumference(r):\n",
        "  return 2*3.14*r\n",
        "\n",
        "print(circle_circumference(9))#here you pass the value of r you have to pass a number\n",
        "\n",
        "def weather_condition():\n",
        "  print(\"weather is pleasent in\",spring)\n",
        "  print(\"weather is same in\",autumn)\n",
        "\n",
        "spring=\"autumn\"\n",
        "autumn=\"winter\"\n",
        "weather_condition()\n",
        "\n",
        "def add(P, Q):\n",
        "   return P+Q\n",
        "\n",
        "def subtract(P, Q):\n",
        "  return P - Q\n",
        "\n",
        "def multiply(P, Q):\n",
        "  return P * Q\n",
        "\n",
        "def divide(P, Q):\n",
        " return P / Q\n",
        "\n",
        "# Now we will take inputs from the user\n",
        "print(\"Please select operation.\")\n",
        "print(\"a. Add\")\n",
        "print(\"b. Subtract\")\n",
        "print(\"c. Multiply\")\n",
        "print(\"d. Divide\")\n",
        "\n",
        "choice = input(\"Please enter choice (a/b/c/d):\")\n",
        "\n",
        "num_1 = int(input(\"Please enter the first number: \"))\n",
        "num_2 = int(input(\"Please enter the second number: \"))\n",
        "\n",
        "if choice == 'a':\n",
        "  print(num_1, \"+\", num_2, \"=\", add(num_1, num_2))\n",
        "elif choice == 'b':\n",
        "  print(num_1, \"-\", num_2, \"=\", subtract(num_1, num_2))\n",
        "elif choice == 'c':\n",
        "  print(num_1, \"*\", num_2, \"=\", multiply(num_1, num_2))\n",
        "elif choice == 'd':\n",
        "  print(num_1, \"/\", num_2, \"=\", divide(num_1, num_2))\n",
        "else:\n",
        "  print(\"This is an invalid input\")"
      ],
      "metadata": {
        "colab": {
          "base_uri": "https://localhost:8080/"
        },
        "id": "SvBokWZbN8vY",
        "outputId": "2b9f1a5e-1a86-409d-c97f-67fb04f9ed85"
      },
      "execution_count": 8,
      "outputs": [
        {
          "output_type": "stream",
          "name": "stdout",
          "text": [
            "Enter radius:7\n",
            "56.52\n",
            "weather is pleasent in autumn\n",
            "weather is same in winter\n",
            "Please select operation.\n",
            "a. Add\n",
            "b. Subtract\n",
            "c. Multiply\n",
            "d. Divide\n",
            "Please enter choice (a/b/c/d):a\n",
            "Please enter the first number: 10\n",
            "Please enter the second number: 20\n",
            "10 + 20 = 30\n"
          ]
        }
      ]
    },
    {
      "cell_type": "markdown",
      "source": [
        "**Weather**"
      ],
      "metadata": {
        "id": "xeTbdHsbOFsR"
      }
    },
    {
      "cell_type": "code",
      "source": [
        "def weather_condition():\n",
        "  print(\"weather is pleasent in\",spring)\n",
        "  print(\"weather is same in\",autumn)\n",
        "\n",
        "spring=\"autumn\"\n",
        "autumn=\"winter\"\n",
        "weather_condition()"
      ],
      "metadata": {
        "colab": {
          "base_uri": "https://localhost:8080/"
        },
        "id": "V_oU4xAIOLrg",
        "outputId": "96dcb2ea-0d2b-455d-873d-e01d7724464e"
      },
      "execution_count": 9,
      "outputs": [
        {
          "output_type": "stream",
          "name": "stdout",
          "text": [
            "weather is pleasent in autumn\n",
            "weather is same in winter\n"
          ]
        }
      ]
    },
    {
      "cell_type": "markdown",
      "source": [
        "**Calculation**"
      ],
      "metadata": {
        "id": "_mC4kM2vONbr"
      }
    },
    {
      "cell_type": "code",
      "source": [
        "def add(P, Q):\n",
        "   return P+Q\n",
        "\n",
        "def subtract(P, Q):\n",
        "  return P - Q\n",
        "\n",
        "def multiply(P, Q):\n",
        "  return P * Q\n",
        "\n",
        "def divide(P, Q):\n",
        " return P / Q\n",
        "# Now we will take inputs from the user\n",
        "print(\"Please select operation.\")\n",
        "print(\"a. Add\")\n",
        "print(\"b. Subtract\")\n",
        "print(\"c. Multiply\")\n",
        "print(\"d. Divide\")\n",
        "\n",
        "choice = input(\"Please enter choice (a/b/c/d):\")\n",
        "\n",
        "num_1 = int(input(\"Please enter the first number: \"))\n",
        "num_2 = int(input(\"Please enter the second number: \"))\n",
        "\n",
        "if choice == 'a':\n",
        "  print(num_1, \"+\", num_2, \"=\", add(num_1, num_2))\n",
        "elif choice == 'b':\n",
        "  print(num_1, \"-\", num_2, \"=\", subtract(num_1, num_2))\n",
        "elif choice == 'c':\n",
        "  print(num_1, \"*\", num_2, \"=\", multiply(num_1, num_2))\n",
        "elif choice == 'd':\n",
        "  print(num_1, \"/\", num_2, \"=\", divide(num_1, num_2))\n",
        "else:\n",
        "  print(\"This is an invalid input\")\n"
      ],
      "metadata": {
        "colab": {
          "base_uri": "https://localhost:8080/"
        },
        "id": "5IUf8VO0OUQq",
        "outputId": "6c6163e6-7bb9-4874-999a-d2108ada437e"
      },
      "execution_count": 10,
      "outputs": [
        {
          "output_type": "stream",
          "name": "stdout",
          "text": [
            "Please select operation.\n",
            "a. Add\n",
            "b. Subtract\n",
            "c. Multiply\n",
            "d. Divide\n",
            "Please enter choice (a/b/c/d):a\n",
            "Please enter the first number: 10\n",
            "Please enter the second number: 20\n",
            "10 + 20 = 30\n"
          ]
        }
      ]
    },
    {
      "cell_type": "markdown",
      "source": [
        "**Perimeter**"
      ],
      "metadata": {
        "id": "TrsCCkKeOgBP"
      }
    },
    {
      "cell_type": "code",
      "source": [
        "def squareperi(x):\n",
        "  perimeter=4*x\n",
        "  print(\"perimeter of square is\",perimeter)\n",
        "\n",
        "def rectangleperi(l,b):\n",
        "  perimeter = 2*(l+b)\n",
        "  return perimeter\n",
        "\n",
        "def circumference(r):\n",
        "  c=2*3.14*r\n",
        "  print(\"circumference of circle is\",c)\n",
        "\n",
        "r=int(input(\"enter radius of circle:\"))\n",
        "circumference(r)\n",
        "\n",
        "x=int(input(\"Enter side of square->\"))\n",
        "squareperi(x)\n",
        "\n",
        "l = int(input(\"Enter length of rectangle->\"))\n",
        "b = int(input(\"Enter breadth of rectangle->\"))\n",
        "print(rectangleperi(l,b))"
      ],
      "metadata": {
        "colab": {
          "base_uri": "https://localhost:8080/"
        },
        "id": "7kEUdriFOhjf",
        "outputId": "b0076846-bf31-4608-80b2-48ca8b0ac031"
      },
      "execution_count": 11,
      "outputs": [
        {
          "output_type": "stream",
          "name": "stdout",
          "text": [
            "enter radius of circle:7\n",
            "circumference of circle is 43.96\n",
            "Enter side of square->20\n",
            "perimeter of square is 80\n",
            "Enter length of rectangle->10\n",
            "Enter breadth of rectangle->20\n",
            "60\n"
          ]
        }
      ]
    },
    {
      "cell_type": "markdown",
      "source": [
        "**Number conversion**"
      ],
      "metadata": {
        "id": "jBw8HGBaOz1f"
      }
    },
    {
      "cell_type": "code",
      "source": [
        "def DecimalToBinary(num):\n",
        "    if num >= 1:\n",
        "        DecimalToBinary(num // 2)\n",
        "    print(num % 2, end='')\n",
        "\n",
        "# Adding a newline after each binary conversion for clarity\n",
        "print(\"Binary of 5:\", end=' ')\n",
        "DecimalToBinary(5)\n",
        "print()  # Newline\n",
        "\n",
        "print(\"Binary of 23:\", end=' ')\n",
        "DecimalToBinary(23)\n",
        "print()  # Newline\n",
        "\n",
        "print(\"Binary of 5:\", end=' ')\n",
        "DecimalToBinary(5)\n",
        "print()  # Newline\n"
      ],
      "metadata": {
        "colab": {
          "base_uri": "https://localhost:8080/"
        },
        "id": "bQptigpCO3Eg",
        "outputId": "a4efbe8c-aa0e-4473-ae8e-a13c4978d9b0"
      },
      "execution_count": 12,
      "outputs": [
        {
          "output_type": "stream",
          "name": "stdout",
          "text": [
            "Binary of 5: 0101\n",
            "Binary of 23: 010111\n",
            "Binary of 5: 0101\n"
          ]
        }
      ]
    }
  ]
}