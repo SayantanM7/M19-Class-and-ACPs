{
  "nbformat": 4,
  "nbformat_minor": 0,
  "metadata": {
    "colab": {
      "provenance": []
    },
    "kernelspec": {
      "name": "python3",
      "display_name": "Python 3"
    },
    "language_info": {
      "name": "python"
    }
  },
  "cells": [
    {
      "cell_type": "markdown",
      "source": [
        "**Prime number**"
      ],
      "metadata": {
        "id": "3vmkll4uPawP"
      }
    },
    {
      "cell_type": "code",
      "source": [
        "num = 31\n",
        "\n",
        "flag = False\n",
        "\n",
        "if num > 1:\n",
        "    # check for factors\n",
        "    for i in range(2, num):\n",
        "        if (num % i) == 0:\n",
        "            flag = True\n",
        "            break\n",
        "\n",
        "if flag:\n",
        "    print(num, \"is not a prime number\")\n",
        "else:\n",
        "    print(num, \"is a prime number\")"
      ],
      "metadata": {
        "colab": {
          "base_uri": "https://localhost:8080/"
        },
        "id": "3_5l_UbTPc3A",
        "outputId": "afca8f4a-bf91-42c5-ea07-e07403d92628"
      },
      "execution_count": 14,
      "outputs": [
        {
          "output_type": "stream",
          "name": "stdout",
          "text": [
            "31 is a prime number\n"
          ]
        }
      ]
    },
    {
      "cell_type": "markdown",
      "source": [
        "**Cube**"
      ],
      "metadata": {
        "id": "saySpTYoPmTA"
      }
    },
    {
      "cell_type": "code",
      "source": [
        "def cube(num):\n",
        "    return num * num * num\n",
        "\n",
        "num = 10\n",
        "print(f\"The cube of {num} is {cube(num)}\")\n"
      ],
      "metadata": {
        "colab": {
          "base_uri": "https://localhost:8080/"
        },
        "id": "Rj9E36UqPnw3",
        "outputId": "967cad94-dcd2-4b5a-9f24-f114f275713d"
      },
      "execution_count": 16,
      "outputs": [
        {
          "output_type": "stream",
          "name": "stdout",
          "text": [
            "The cube of 10 is 1000\n"
          ]
        }
      ]
    },
    {
      "cell_type": "markdown",
      "source": [
        "**Factorial**"
      ],
      "metadata": {
        "id": "99S2ZgDjPvD4"
      }
    },
    {
      "cell_type": "code",
      "source": [
        "def factorial(n):\n",
        "    if n == 0 or n == 1:  # Base case: 0! and 1! are both 1\n",
        "        return 1\n",
        "    else:\n",
        "        return n * factorial(n - 1)  # Recursive call\n",
        "\n",
        "# Input from user\n",
        "num = int(input(\"Enter a number: \"))\n",
        "\n",
        "# Check if the number is negative\n",
        "if num < 0:\n",
        "    print(\"Factorial does not exist for negative numbers.\")\n",
        "else:\n",
        "    print(f\"The factorial of {num} is {factorial(num)}\")"
      ],
      "metadata": {
        "colab": {
          "base_uri": "https://localhost:8080/"
        },
        "id": "RwjsV84KPwn_",
        "outputId": "dd2b4809-b0ea-4fdb-e6ee-2240f973f1f6"
      },
      "execution_count": 17,
      "outputs": [
        {
          "output_type": "stream",
          "name": "stdout",
          "text": [
            "Enter a number: 5\n",
            "The factorial of 5 is 120\n"
          ]
        }
      ]
    },
    {
      "cell_type": "markdown",
      "source": [
        "**Employee**"
      ],
      "metadata": {
        "id": "LElcQJFnP8LJ"
      }
    },
    {
      "cell_type": "code",
      "source": [
        "def employee(name):\n",
        "  return(name)\n",
        "\n",
        "def salary(exp):\n",
        "  if exp>=5:\n",
        "    return 3000000\n",
        "  elif exp>=3:\n",
        "    return 1000000\n",
        "  else:\n",
        "    return 500000\n",
        "emp=employee(\"Shyam\")\n",
        "a = salary(15)\n",
        "print(f\"The salary of {emp} is {a} \")"
      ],
      "metadata": {
        "colab": {
          "base_uri": "https://localhost:8080/"
        },
        "id": "JvdYTq45P9zf",
        "outputId": "5f4e51bf-84b6-4d9e-a843-1170b3737c85"
      },
      "execution_count": 21,
      "outputs": [
        {
          "output_type": "stream",
          "name": "stdout",
          "text": [
            "The salary of Shyam is 3000000 \n"
          ]
        }
      ]
    }
  ]
}