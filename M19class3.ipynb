{
  "nbformat": 4,
  "nbformat_minor": 0,
  "metadata": {
    "colab": {
      "provenance": []
    },
    "kernelspec": {
      "name": "python3",
      "display_name": "Python 3"
    },
    "language_info": {
      "name": "python"
    }
  },
  "cells": [
    {
      "cell_type": "markdown",
      "source": [
        "**Break**"
      ],
      "metadata": {
        "id": "aQoE7GrdQoae"
      }
    },
    {
      "cell_type": "code",
      "source": [
        "#Take user input\n",
        "a = input (\"Enter a word: \")\n",
        "#program to check break keyword\n",
        "for i in a: #iterate for loop\n",
        "  if (i == 'A' or i=='a'): #condition 1\n",
        "  #display result\n",
        "    print (\"A is found\")\n",
        "    break #break statement\n",
        "  else:\n",
        "  #display result\n",
        "    print (\"A not found\")\n"
      ],
      "metadata": {
        "colab": {
          "base_uri": "https://localhost:8080/"
        },
        "id": "qRX3nPxaQqlX",
        "outputId": "9dd4bbc8-5548-4ac1-e162-8d8d4272901f"
      },
      "execution_count": 23,
      "outputs": [
        {
          "output_type": "stream",
          "name": "stdout",
          "text": [
            "Enter a word: codingal\n",
            "A not found\n",
            "A not found\n",
            "A not found\n",
            "A not found\n",
            "A not found\n",
            "A not found\n",
            "A is found\n"
          ]
        }
      ]
    },
    {
      "cell_type": "markdown",
      "source": [
        "**Pass**"
      ],
      "metadata": {
        "id": "Izvci5wqQ5Em"
      }
    },
    {
      "cell_type": "code",
      "source": [
        "for x in range(10): #iterate for loop\n",
        "    if x % 20 == 0: #condition 1\n",
        "       print(\"twist\")\n",
        "\n",
        "    elif x % 15 == 0: #condition 2\n",
        "       pass       #pass statement\n",
        "\n",
        "    elif x % 5 == 0: #condition 3\n",
        "       print(\"fizz\")   #display result\n",
        "\n",
        "    elif x % 3 == 0:  #condition 4\n",
        "       print(\"buzz\")    #display result\n",
        "\n",
        "    else:              #condition 5\n",
        "       print(x)        #display result"
      ],
      "metadata": {
        "colab": {
          "base_uri": "https://localhost:8080/"
        },
        "id": "ZTQt_0EnQ9C-",
        "outputId": "0c7eccb5-1372-4dd8-f2f9-f05fcc2540ca"
      },
      "execution_count": 24,
      "outputs": [
        {
          "output_type": "stream",
          "name": "stdout",
          "text": [
            "twist\n",
            "1\n",
            "2\n",
            "buzz\n",
            "4\n",
            "fizz\n",
            "buzz\n",
            "7\n",
            "8\n",
            "buzz\n"
          ]
        }
      ]
    },
    {
      "cell_type": "markdown",
      "source": [
        "**Continue**"
      ],
      "metadata": {
        "id": "uGq4q_mmRL8W"
      }
    },
    {
      "cell_type": "code",
      "source": [
        "var = 10           #initialise\n",
        "while var > 0:     #iterate loop\n",
        "   var = var - 1\n",
        "   if var == 5:       #condition 1\n",
        "      continue        #continue statement\n",
        "      #display result\n",
        "   print ('\\nCurrent variable value :', var)\n",
        "print (\"\\nGood bye!\")\n",
        "\n"
      ],
      "metadata": {
        "colab": {
          "base_uri": "https://localhost:8080/"
        },
        "id": "zHfHwsAORIUe",
        "outputId": "ff0ddce4-15ab-4056-cdb8-5f81ba4bf218"
      },
      "execution_count": 25,
      "outputs": [
        {
          "output_type": "stream",
          "name": "stdout",
          "text": [
            "\n",
            "Current variable value : 9\n",
            "\n",
            "Current variable value : 8\n",
            "\n",
            "Current variable value : 7\n",
            "\n",
            "Current variable value : 6\n",
            "\n",
            "Current variable value : 4\n",
            "\n",
            "Current variable value : 3\n",
            "\n",
            "Current variable value : 2\n",
            "\n",
            "Current variable value : 1\n",
            "\n",
            "Current variable value : 0\n",
            "\n",
            "Good bye!\n"
          ]
        }
      ]
    },
    {
      "cell_type": "markdown",
      "source": [
        "**Current letter**"
      ],
      "metadata": {
        "id": "QgDCdGyqRwtW"
      }
    },
    {
      "cell_type": "code",
      "source": [
        "for i in range(21):\n",
        "    if i % 10==0:\n",
        "      print(i)\n",
        "      continue\n",
        "    print(\"the value is\",i)"
      ],
      "metadata": {
        "colab": {
          "base_uri": "https://localhost:8080/"
        },
        "id": "Fy2biNV8Rynu",
        "outputId": "a7c8c7d7-0819-43b7-cbe8-995e8cb9f6ce"
      },
      "execution_count": 26,
      "outputs": [
        {
          "output_type": "stream",
          "name": "stdout",
          "text": [
            "0\n",
            "the value is 1\n",
            "the value is 2\n",
            "the value is 3\n",
            "the value is 4\n",
            "the value is 5\n",
            "the value is 6\n",
            "the value is 7\n",
            "the value is 8\n",
            "the value is 9\n",
            "10\n",
            "the value is 11\n",
            "the value is 12\n",
            "the value is 13\n",
            "the value is 14\n",
            "the value is 15\n",
            "the value is 16\n",
            "the value is 17\n",
            "the value is 18\n",
            "the value is 19\n",
            "20\n"
          ]
        }
      ]
    },
    {
      "cell_type": "markdown",
      "source": [
        "**Present letter**"
      ],
      "metadata": {
        "id": "A9LBawUKR5WI"
      }
    },
    {
      "cell_type": "code",
      "source": [
        "for numb in range(1,5): #example 1\n",
        "  if numb==2:\n",
        "  #using pass function\n",
        "    pass\n",
        "  else:\n",
        "    print (\"Present Number =  {} \".format(numb))"
      ],
      "metadata": {
        "colab": {
          "base_uri": "https://localhost:8080/"
        },
        "id": "IH3jI-OZR1HN",
        "outputId": "b002f53b-1c5e-4e58-a9db-d6138c8f8947"
      },
      "execution_count": 27,
      "outputs": [
        {
          "output_type": "stream",
          "name": "stdout",
          "text": [
            "Present Number =  1 \n",
            "Present Number =  3 \n",
            "Present Number =  4 \n"
          ]
        }
      ]
    },
    {
      "cell_type": "code",
      "source": [],
      "metadata": {
        "id": "JWs1DsFTSH2l"
      },
      "execution_count": null,
      "outputs": []
    }
  ]
}