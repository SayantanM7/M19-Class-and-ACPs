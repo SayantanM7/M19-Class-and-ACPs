{
  "nbformat": 4,
  "nbformat_minor": 0,
  "metadata": {
    "colab": {
      "provenance": []
    },
    "kernelspec": {
      "name": "python3",
      "display_name": "Python 3"
    },
    "language_info": {
      "name": "python"
    }
  },
  "cells": [
    {
      "cell_type": "markdown",
      "source": [
        "**Rock paper scissors**"
      ],
      "metadata": {
        "id": "cc3yrjj33-uo"
      }
    },
    {
      "cell_type": "code",
      "source": [
        "import random\n",
        "\n",
        "options = [\"Rock\", \"Paper\", \"Scissors\"]\n",
        "\n",
        "user_choice = input(\"Choose Rock, Paper, or Scissors: \")\n",
        "\n",
        "computer_choice = random.choice(options)\n",
        "\n",
        "print(\"You chose:\", user_choice)\n",
        "print(\"Computer chose:\", computer_choice)\n",
        "\n",
        "if user_choice == computer_choice:\n",
        "    print(\"It's a tie!\")\n",
        "elif user_choice == \"Rock\" and computer_choice == \"Scissors\":\n",
        "    print(\"Rock smashes scissors! You win!\")\n",
        "elif user_choice == \"Paper\" and computer_choice == \"Rock\":\n",
        "    print(\"Paper covers rock! You win!\")\n",
        "elif user_choice == \"Scissors\" and computer_choice == \"Paper\":\n",
        "    print(\"Scissors cuts paper! You win!\")\n",
        "else:\n",
        "    print(\"You lose!. \")"
      ],
      "metadata": {
        "colab": {
          "base_uri": "https://localhost:8080/"
        },
        "id": "Kxb1IjW24BKK",
        "outputId": "db416903-5579-4dff-f4e2-2222123d9730"
      },
      "execution_count": 1,
      "outputs": [
        {
          "output_type": "stream",
          "name": "stdout",
          "text": [
            "Choose Rock, Paper, or Scissors: Rock\n",
            "You chose: Rock\n",
            "Computer chose: Scissors\n",
            "Rock smashes scissors! You win!\n"
          ]
        }
      ]
    },
    {
      "cell_type": "markdown",
      "source": [
        "**Math operations **"
      ],
      "metadata": {
        "id": "rn6hoW6Z4TQc"
      }
    },
    {
      "cell_type": "code",
      "source": [
        "import math\n",
        "print(math.sin(45))\n",
        "print(math.cos(45))\n",
        "print(math.tan(45))\n",
        "\n",
        "print(math.ceil(45.490))\n",
        "print(math.floor(45.890))\n",
        "print(math.factorial(5))"
      ],
      "metadata": {
        "colab": {
          "base_uri": "https://localhost:8080/"
        },
        "id": "t4gcM_Wk4WKQ",
        "outputId": "51d8761c-9c0c-42a1-9a10-246d328f40e2"
      },
      "execution_count": 2,
      "outputs": [
        {
          "output_type": "stream",
          "name": "stdout",
          "text": [
            "0.8509035245341184\n",
            "0.5253219888177297\n",
            "1.6197751905438615\n",
            "46\n",
            "45\n",
            "120\n"
          ]
        }
      ]
    },
    {
      "cell_type": "markdown",
      "source": [
        "**Math conditions **"
      ],
      "metadata": {
        "id": "6Y727Jpt4fhI"
      }
    },
    {
      "cell_type": "code",
      "source": [
        "import math  #importing math module\n",
        "\n",
        "x = float('nan')\n",
        "if math.isnan(x): #to check whether the given value is number or not\n",
        "    print('It is not a number')\n",
        "x = float('inf')\n",
        "y = 45\n",
        "if math.isinf(x): #to check whether the given number is infinite or not\n",
        "    print('It is Infinity')\n",
        "print(math.isfinite(x)) #x is not a finite number\n",
        "print(math.isfinite(y)) #y is a finite number\n",
        "print(math.isnan(y))"
      ],
      "metadata": {
        "colab": {
          "base_uri": "https://localhost:8080/"
        },
        "id": "lvZwwy7g4htZ",
        "outputId": "c1f0ea81-88c5-44f6-f847-05a8ffa0b9bd"
      },
      "execution_count": 3,
      "outputs": [
        {
          "output_type": "stream",
          "name": "stdout",
          "text": [
            "It is not a number\n",
            "It is Infinity\n",
            "False\n",
            "True\n",
            "False\n"
          ]
        }
      ]
    },
    {
      "cell_type": "markdown",
      "source": [
        "**isClose math**"
      ],
      "metadata": {
        "id": "2S3mm0BN4uip"
      }
    },
    {
      "cell_type": "code",
      "source": [
        "import math #importing module\n",
        "\n",
        "#isclose function to check whether to value are close or not\n",
        "\n",
        "print(math.isclose(12.014, 12.56))\n",
        "\n",
        "print(math.isclose(12.014, 12.014))\n",
        "\n",
        "print(math.isclose(12.45, 12.46))\n",
        "\n",
        "print(math.isclose(12.014, 12.434, abs_tol = 0.5))\n",
        "\n",
        "print(math.isclose(12.014, 12.018, rel_tol = 0.2))"
      ],
      "metadata": {
        "id": "oeu-IaF_4v1y"
      },
      "execution_count": null,
      "outputs": []
    },
    {
      "cell_type": "markdown",
      "source": [
        "**Generate random number and predict**"
      ],
      "metadata": {
        "id": "pyi2hwea5def"
      }
    },
    {
      "cell_type": "code",
      "source": [
        "import random\n",
        "\n",
        "# Get a random number between 10 and 20\n",
        "random_number = random.randint(10, 20)\n",
        "\n",
        "# Get a number from the user\n",
        "user_number = int(input(\"Enter a number between 10 and 20: \"))\n",
        "\n",
        "# Check if the numbers match\n",
        "if random_number == user_number:\n",
        "    print(\"Congratulations! You guessed the correct number.\")\n",
        "else:\n",
        "    print(\"Sorry, the correct number was:\", random_number)"
      ],
      "metadata": {
        "colab": {
          "base_uri": "https://localhost:8080/"
        },
        "id": "BsviLwgu5d9w",
        "outputId": "bc2bfe00-69be-448f-ac8e-b078a22953de"
      },
      "execution_count": 5,
      "outputs": [
        {
          "output_type": "stream",
          "name": "stdout",
          "text": [
            "Enter a number between 10 and 20: 14\n",
            "Congratulations! You guessed the correct number.\n"
          ]
        }
      ]
    }
  ]
}