{
  "nbformat": 4,
  "nbformat_minor": 0,
  "metadata": {
    "colab": {
      "provenance": []
    },
    "kernelspec": {
      "name": "python3",
      "display_name": "Python 3"
    },
    "language_info": {
      "name": "python"
    }
  },
  "cells": [
    {
      "cell_type": "markdown",
      "source": [
        "**Random date & time**"
      ],
      "metadata": {
        "id": "VxPa0m8E6Bro"
      }
    },
    {
      "cell_type": "code",
      "source": [
        "import random\n",
        "\n",
        "import time\n",
        "\n",
        "\n",
        "def getRandomDate(starDate, endDate):\n",
        "    print(\"Printing random date between\", starDate, \"and\", endDate)\n",
        "    randomGenerator = random.random()\n",
        "    dateFormat = '%m/%d/%Y'\n",
        "    starttime = time.mktime(time.strptime(starDate, dateFormat))\n",
        "    endtime = time.mktime(time.strptime(endDate, dateFormat))\n",
        "    randomTime = starttime + randomGenerator * (endtime - starttime)\n",
        "    randomDate = time.strftime(dateFormat, time.localtime(randomTime))\n",
        "    return randomDate\n",
        "\n",
        "\n",
        "print(\"Random Date = \", getRandomDate(\"1/1/2020\", \"12/12/2024\"))"
      ],
      "metadata": {
        "colab": {
          "base_uri": "https://localhost:8080/"
        },
        "id": "zcgT7kmH6HBI",
        "outputId": "3c9b6cbb-a234-493e-f6ae-efbd85ff7d15"
      },
      "execution_count": 6,
      "outputs": [
        {
          "output_type": "stream",
          "name": "stdout",
          "text": [
            "Printing random date between 1/1/2020 and 12/12/2024\n",
            "Random Date =  01/05/2024\n"
          ]
        }
      ]
    },
    {
      "cell_type": "markdown",
      "source": [
        "**Current date & time**"
      ],
      "metadata": {
        "id": "elNsi1en6Lm2"
      }
    },
    {
      "cell_type": "code",
      "source": [
        "import datetime\n",
        "import pytz\n",
        "\n",
        "# Get the current time in IST timezone\n",
        "ist_timezone = pytz.timezone('Asia/Kolkata')\n",
        "current_time = datetime.datetime.now(ist_timezone)\n",
        "\n",
        "# Print the current date and time in IST format\n",
        "print(current_time.strftime('%Y-%m-%d %H:%M:%S'))"
      ],
      "metadata": {
        "colab": {
          "base_uri": "https://localhost:8080/"
        },
        "id": "UmDhELWu6LP_",
        "outputId": "58626e85-a25f-4880-9f7d-869711ac1193"
      },
      "execution_count": 8,
      "outputs": [
        {
          "output_type": "stream",
          "name": "stdout",
          "text": [
            "2024-09-13 15:55:03\n"
          ]
        }
      ]
    },
    {
      "cell_type": "markdown",
      "source": [
        "**Trip expenditure**"
      ],
      "metadata": {
        "id": "jLy8rcvc6rkY"
      }
    },
    {
      "cell_type": "code",
      "source": [
        "\n",
        "def hotel_cost(nights):\n",
        "    return 140*nights\n",
        "\n",
        "#Define a function called plane_ride_cost that takes a string, city, as input.\n",
        "def plane_ride_cost(city):\n",
        "    if \"Charlotte\" == city:\n",
        "        return 183\n",
        "    elif \"Tampa\" == city:\n",
        "        return 220\n",
        "    elif \"Pittsburgh\" == city:\n",
        "        return 222\n",
        "    elif \"Los Angeles\" == city:\n",
        "        return 475\n",
        "\n",
        "#Define a function called rental_car_cost with an argument called days\n",
        "def rental_car_cost(days):\n",
        "    if days>=7 :\n",
        "        return 40*days - 50\n",
        "    elif days>=3 :\n",
        "        return 40*days - 20\n",
        "    else:\n",
        "        return 40*days\n",
        "\n",
        "#Define a function called trip cost with argument day, money and city\n",
        "def trip_cost(city, days, spending_money):\n",
        "    return rental_car_cost(days) + hotel_cost(days) + plane_ride_cost(city) + spending_money\n",
        "\n",
        "print(\"Cost of car rental: \",rental_car_cost(6))\n",
        "\n",
        "print(\"Cost of plane ride: \",plane_ride_cost(\"Los Angeles\"))\n",
        "\n",
        "print(\"Cost of hotel room: \", hotel_cost(7))\n",
        "\n",
        "print(\"Total cost of the trip:\",trip_cost(\"Los Angeles\",7,500))\n",
        "\n",
        "print(trip_cost(\"Tampa\",6,500))"
      ],
      "metadata": {
        "colab": {
          "base_uri": "https://localhost:8080/"
        },
        "id": "wxgOzzkt6xz_",
        "outputId": "bb322f32-78ac-4c53-864d-38810db2abe0"
      },
      "execution_count": 9,
      "outputs": [
        {
          "output_type": "stream",
          "name": "stdout",
          "text": [
            "Cost of car rental:  220\n",
            "Cost of plane ride:  475\n",
            "Cost of hotel room:  980\n",
            "Total cost of the trip: 2185\n",
            "1780\n"
          ]
        }
      ]
    },
    {
      "cell_type": "markdown",
      "source": [
        "**First day**"
      ],
      "metadata": {
        "id": "aZ1AYMpo601-"
      }
    },
    {
      "cell_type": "code",
      "source": [
        "import calendar\n",
        "c = calendar.TextCalendar(calendar.SUNDAY)\n",
        "\n",
        "str = c.formatmonth(2024,9)\n",
        "print(\"calender for the month is\")\n",
        "print(str)"
      ],
      "metadata": {
        "colab": {
          "base_uri": "https://localhost:8080/"
        },
        "id": "do6gOM1M68Me",
        "outputId": "7ce8d18a-e312-4c89-bea2-c38ec758a340"
      },
      "execution_count": 12,
      "outputs": [
        {
          "output_type": "stream",
          "name": "stdout",
          "text": [
            "calender for the month is\n",
            "   September 2024\n",
            "Su Mo Tu We Th Fr Sa\n",
            " 1  2  3  4  5  6  7\n",
            " 8  9 10 11 12 13 14\n",
            "15 16 17 18 19 20 21\n",
            "22 23 24 25 26 27 28\n",
            "29 30\n",
            "\n"
          ]
        }
      ]
    }
  ]
}